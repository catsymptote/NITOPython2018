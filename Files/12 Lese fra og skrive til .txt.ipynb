{
 "cells": [
  {
   "cell_type": "markdown",
   "metadata": {},
   "source": [
    "# Lese fra og skrive til .txt\n",
    "Se følgende link for grunnleggende lesing fra og skriving til filer: https://docs.python.org/3/tutorial/inputoutput.html#reading-and-writing-files\n",
    "\n",
    "For å lese fra filer må vi først åpne filene. Vi må da velge om vi skal kunne lese og/eller skrive.\n",
    "\n",
    "file = open('filnavn', 'modus') \n",
    "\n",
    "filen blir variabelnavnet som brukes når vi bruker filen senere. filnavn er en streng som er adressen til filen. Hvis vi bare skriver 'test.txt' må filen ligge i samme mappe som den vi jobber i (working directory). modus er en streng som avgjør om vi bare kan lese, bare kan skrive osv.\n",
    "\n",
    "Modus kan være 'r' for å bare lese, 'w' for å bare skrive (dette overskriver eksisterende filer med samme navn), 'a' for å bare skrive til slutten av en fil uten å påvirke det som allerede er der, 'r+' for å både lese og skrive.\n",
    "\n",
    "Når vi er ferdige med en fil skal vi lukke den: filen.close()\n",
    "\n",
    "Under er et eksempel på hvordan vi kan opprette en fil, skrive i den, og lukke den igjen. Når du har kjørt koden i cellen, åpne mappen i filstrukturen din (Min datamaskin) og sjekk at tekstfilen er opprettet og har det inneholdet vi forventer basert på disse linjene. Etter å ha sett på skriving skal vi se på lesing.\n",
    "\n",
    "Når vi skal skrive til filer lønner det seg å være god med strenger. Det finnes mange metoder for hvordan strenger kan formateres, som å høyrejustere, venstrejustere osv. Benytt gjerne anledningen til å se nøyere på hvilke metoder som kan brukes på strenger. Her er mer om formatet på tekst og hvordan man kan påvirke fremstillingen av tekst: https://docs.python.org/3/tutorial/inputoutput.html"
   ]
  },
  {
   "cell_type": "code",
   "execution_count": 13,
   "metadata": {
    "collapsed": true
   },
   "outputs": [],
   "source": [
    "file = open('testfil.txt','w')\n",
    "\n",
    "file.write('Dette er en test.')\n",
    "file.write('Vi har laget en tekstfil')\n",
    "file.write('og nå skriver vi tekst i den.')\n",
    "\n",
    "file.close()"
   ]
  },
  {
   "cell_type": "markdown",
   "metadata": {},
   "source": [
    "Som du så ble alt plassert på samme linje. For å sette inn linjeskift bruker vi \\n inne i selve strengen. Legg merke til at om vi har \\n i siste linje avgjør om vi har en blank linje nederst i filen eller ikke."
   ]
  },
  {
   "cell_type": "code",
   "execution_count": 14,
   "metadata": {},
   "outputs": [],
   "source": [
    "file = open('testfil.txt','w')\n",
    "\n",
    "file.write('Dette er en test.\\n')\n",
    "file.write('Vi har laget en tekstfil\\n')\n",
    "file.write('og nå skriver vi tekst i den.\\n')\n",
    "\n",
    "file.close()"
   ]
  },
  {
   "cell_type": "markdown",
   "metadata": {},
   "source": [
    "Hvis vi har variabler kan de brukes. La oss ta ordboken for folkeregisteret."
   ]
  },
  {
   "cell_type": "code",
   "execution_count": 18,
   "metadata": {},
   "outputs": [],
   "source": [
    "folkeregisteret = {31128712345: ['Aspestrøket 77'], 20047712345: ['Eikeveien 20'], 14128912345: ['Bjørkgata 32', 'Palmesmuget 98'], 12010812345: ['Eikeveien 20']}\n",
    "\n",
    "file = open('testfil.txt','w')\n",
    "\n",
    "for element in folkeregisteret:\n",
    "    linje = 'Adressen(e) som er registrert på fødselsnummer ' + str(element) + ': ' + str(folkeregisteret[element]) + '\\n'\n",
    "    file.write(linje)\n",
    "\n",
    "file.close()"
   ]
  },
  {
   "cell_type": "markdown",
   "metadata": {},
   "source": [
    "Øving: Skriv kode som skriver data fra en liste til en fil. Listen kan f.eks. være liste over navn på oppfinnere.\n",
    "\n",
    "Velg selv hvordan du ønsker å sette opp teksten i filen.\n",
    "\n",
    "Bruk f.eks. denne listen:\n",
    "\n",
    "oppfinnere = ['Petter Smart', 'Nikola Tesla', 'Rick Sanchez', 'Leonardo da Vinci', 'Alessandro Volta', 'James Watt']"
   ]
  },
  {
   "cell_type": "code",
   "execution_count": null,
   "metadata": {
    "collapsed": true
   },
   "outputs": [],
   "source": [
    "oppfinnere = ['Petter Smart', 'Nikola Tesla', 'Rick Sanchez', 'Leonardo da Vinci', 'Alessandro Volta', 'James Watt']\n",
    "\n",
    "# Koden kommer her\n",
    "# Koden kommer her\n",
    "# Koden kommer her\n",
    "# Koden kommer her\n",
    "# Koden kommer her"
   ]
  },
  {
   "cell_type": "markdown",
   "metadata": {},
   "source": [
    "Øving: Skriv kode som skriver data fra en ordbok/dictionary til en fil. Ordboken kan f.eks. være en liste over oppfinnere og deres oppfinnelser.\n",
    "\n",
    "Velg selv hvordan du ønsker å sette opp teksten i filen.\n",
    "\n",
    "Bruk f.eks. denne ordboken:\n",
    "\n",
    "oppfinnere_oppfinnelser = ['Petter Smart': ['Lille hjelper'], 'Nikola Tesla': ['Vekselstrøm'], 'Rick Sanchez': ['Portal gun', 'Microverse battery'], 'Leonardo da Vinci': ['Helikopter', 'Selvkjørende vogn', 'Roterende bro'], 'Alessandro Volta': ['Batteri'], 'James Watt': ['Dampmaskin']]"
   ]
  },
  {
   "cell_type": "code",
   "execution_count": null,
   "metadata": {
    "collapsed": true
   },
   "outputs": [],
   "source": [
    "oppfinnere_oppfinnelser = ['Petter Smart': ['Lille hjelper'], 'Nikola Tesla': ['Vekselstrøm'], 'Rick Sanchez': ['Portal gun', 'Microverse battery'], 'Leonardo da Vinci': ['Helikopter', 'Selvkjørende vogn', 'Roterende bro'], 'Alessandro Volta': ['Batteri'], 'James Watt': ['Dampmaskin']]\n",
    "\n",
    "# Koden kommer her\n",
    "# Koden kommer her\n",
    "# Koden kommer her\n",
    "# Koden kommer her\n",
    "# Koden kommer her"
   ]
  },
  {
   "cell_type": "markdown",
   "metadata": {},
   "source": [
    "## Lese fra .txt\n",
    "Vi skal nå se på hvordan vi kan lese fra .txt-filer. Hva man egentlig skal gjøre vil variere mye med formatet til innholdet. La oss begynne med et eksempel på ren tekst.\n",
    "\n",
    "La oss først lese hele filen."
   ]
  },
  {
   "cell_type": "code",
   "execution_count": 21,
   "metadata": {},
   "outputs": [
    {
     "name": "stdout",
     "output_type": "stream",
     "text": [
      "\n",
      "\n",
      "\n",
      "\t\t\t Douglas Adams\n",
      "\n",
      "\t       Life, the Universe, and Everything\n",
      "\n",
      "\n",
      "=================================================================\n",
      "\n",
      "Douglas Adams   The Hitch Hiker's Guide to the Galaxy\n",
      "Douglas Adams   The Restaurant at the End of the Universe\n",
      "Douglas Adams   Life, the Universe, and Everything\n",
      "Douglas Adams   So long, and thanks for all the fish\n",
      "\n",
      "=================================================================\n",
      "\n",
      "Life, the universe and everything\n",
      "\n",
      "for Sally\n",
      "\n",
      "=================================================================\n",
      "Chapter 1\n",
      "\n",
      "The regular early morning yell of horror was the sound of  Arthur\n",
      "Dent waking up and suddenly remembering where he was.\n",
      "\n",
      "It wasn't just that the cave was cold, it wasn't just that it was\n",
      "damp  and smelly. It was the fact that the cave was in the middle\n",
      "of Islington and there wasn't a bus due for two million years.\n",
      "\n",
      "Time is the worst place, so to speak, to get lost in,  as  Arthur\n",
      "Dent  could  testify,  having  been lost in both time and space a\n",
      "good deal. At least being lost in space kept you busy.\n",
      "\n",
      "He was stranded in prehistoric Earth as the result of  a  complex\n",
      "sequence of events which had involved him being alternately blown\n",
      "up and insulted in more bizarre regions of  the  Galaxy  than  he\n",
      "ever  dreamt  existed,  and  though his life had now turned very,\n",
      "very, very quiet, he was still feeling jumpy.\n",
      "\n",
      "He hadn't been blown up now for five years.\n",
      "\n",
      "Since he had hardly seen anyone since he  and  Ford  Prefect  had\n",
      "parted  company four years previously, he hadn't been insulted in\n",
      "all that time either.\n",
      "\n"
     ]
    }
   ],
   "source": [
    "file = open('hitch3.txt','r')\n",
    "print(file.read())\n",
    "file.close()"
   ]
  },
  {
   "cell_type": "markdown",
   "metadata": {},
   "source": [
    "Alternativt kan vi lese en og en linje. Dette gir flere blank linjer."
   ]
  },
  {
   "cell_type": "code",
   "execution_count": 22,
   "metadata": {},
   "outputs": [
    {
     "name": "stdout",
     "output_type": "stream",
     "text": [
      "\n",
      "\n",
      "\n",
      "\n",
      "\n",
      "\n",
      "\t\t\t Douglas Adams\n",
      "\n",
      "\n",
      "\n",
      "\t       Life, the Universe, and Everything\n",
      "\n",
      "\n",
      "\n",
      "\n",
      "\n",
      "=================================================================\n",
      "\n",
      "\n",
      "\n",
      "Douglas Adams   The Hitch Hiker's Guide to the Galaxy\n",
      "\n",
      "Douglas Adams   The Restaurant at the End of the Universe\n",
      "\n",
      "Douglas Adams   Life, the Universe, and Everything\n",
      "\n",
      "Douglas Adams   So long, and thanks for all the fish\n",
      "\n",
      "\n",
      "\n",
      "=================================================================\n",
      "\n",
      "\n",
      "\n",
      "Life, the universe and everything\n",
      "\n",
      "\n",
      "\n",
      "for Sally\n",
      "\n",
      "\n",
      "\n",
      "=================================================================\n",
      "\n",
      "Chapter 1\n",
      "\n",
      "\n",
      "\n",
      "The regular early morning yell of horror was the sound of  Arthur\n",
      "\n",
      "Dent waking up and suddenly remembering where he was.\n",
      "\n",
      "\n",
      "\n",
      "It wasn't just that the cave was cold, it wasn't just that it was\n",
      "\n",
      "damp  and smelly. It was the fact that the cave was in the middle\n",
      "\n",
      "of Islington and there wasn't a bus due for two million years.\n",
      "\n",
      "\n",
      "\n",
      "Time is the worst place, so to speak, to get lost in,  as  Arthur\n",
      "\n",
      "Dent  could  testify,  having  been lost in both time and space a\n",
      "\n",
      "good deal. At least being lost in space kept you busy.\n",
      "\n",
      "\n",
      "\n",
      "He was stranded in prehistoric Earth as the result of  a  complex\n",
      "\n",
      "sequence of events which had involved him being alternately blown\n",
      "\n",
      "up and insulted in more bizarre regions of  the  Galaxy  than  he\n",
      "\n",
      "ever  dreamt  existed,  and  though his life had now turned very,\n",
      "\n",
      "very, very quiet, he was still feeling jumpy.\n",
      "\n",
      "\n",
      "\n",
      "He hadn't been blown up now for five years.\n",
      "\n",
      "\n",
      "\n",
      "Since he had hardly seen anyone since he  and  Ford  Prefect  had\n",
      "\n",
      "parted  company four years previously, he hadn't been insulted in\n",
      "\n",
      "all that time either.\n",
      "\n"
     ]
    }
   ],
   "source": [
    "file = open('hitch3.txt','r')\n",
    "\n",
    "for linje in file:\n",
    "    print(linje)\n",
    "\n",
    "file.close()"
   ]
  },
  {
   "cell_type": "markdown",
   "metadata": {},
   "source": [
    "For å bøte på dette kan vi la være å printe blanke linjer, men det blir ikke like bra som å bare lese hele filen direkte."
   ]
  },
  {
   "cell_type": "code",
   "execution_count": 23,
   "metadata": {},
   "outputs": [
    {
     "name": "stdout",
     "output_type": "stream",
     "text": [
      "\t\t\t Douglas Adams\n",
      "\n",
      "\t       Life, the Universe, and Everything\n",
      "\n",
      "=================================================================\n",
      "\n",
      "Douglas Adams   The Hitch Hiker's Guide to the Galaxy\n",
      "\n",
      "Douglas Adams   The Restaurant at the End of the Universe\n",
      "\n",
      "Douglas Adams   Life, the Universe, and Everything\n",
      "\n",
      "Douglas Adams   So long, and thanks for all the fish\n",
      "\n",
      "=================================================================\n",
      "\n",
      "Life, the universe and everything\n",
      "\n",
      "for Sally\n",
      "\n",
      "=================================================================\n",
      "\n",
      "Chapter 1\n",
      "\n",
      "The regular early morning yell of horror was the sound of  Arthur\n",
      "\n",
      "Dent waking up and suddenly remembering where he was.\n",
      "\n",
      "It wasn't just that the cave was cold, it wasn't just that it was\n",
      "\n",
      "damp  and smelly. It was the fact that the cave was in the middle\n",
      "\n",
      "of Islington and there wasn't a bus due for two million years.\n",
      "\n",
      "Time is the worst place, so to speak, to get lost in,  as  Arthur\n",
      "\n",
      "Dent  could  testify,  having  been lost in both time and space a\n",
      "\n",
      "good deal. At least being lost in space kept you busy.\n",
      "\n",
      "He was stranded in prehistoric Earth as the result of  a  complex\n",
      "\n",
      "sequence of events which had involved him being alternately blown\n",
      "\n",
      "up and insulted in more bizarre regions of  the  Galaxy  than  he\n",
      "\n",
      "ever  dreamt  existed,  and  though his life had now turned very,\n",
      "\n",
      "very, very quiet, he was still feeling jumpy.\n",
      "\n",
      "He hadn't been blown up now for five years.\n",
      "\n",
      "Since he had hardly seen anyone since he  and  Ford  Prefect  had\n",
      "\n",
      "parted  company four years previously, he hadn't been insulted in\n",
      "\n",
      "all that time either.\n",
      "\n"
     ]
    }
   ],
   "source": [
    "file = open('hitch3.txt','r')\n",
    "\n",
    "for linje in file:\n",
    "    if linje != '\\n':\n",
    "        print(linje)\n",
    "\n",
    "file.close()"
   ]
  },
  {
   "cell_type": "markdown",
   "metadata": {},
   "source": [
    "Vi kan hoppe over alle linjene som ikke inneholder selve teksten hvis vi vet hvor mange linjer det er."
   ]
  },
  {
   "cell_type": "code",
   "execution_count": 27,
   "metadata": {},
   "outputs": [
    {
     "name": "stdout",
     "output_type": "stream",
     "text": [
      "The regular early morning yell of horror was the sound of  Arthur\n",
      "Dent waking up and suddenly remembering where he was.\n",
      "\n",
      "It wasn't just that the cave was cold, it wasn't just that it was\n",
      "damp  and smelly. It was the fact that the cave was in the middle\n",
      "of Islington and there wasn't a bus due for two million years.\n",
      "\n",
      "Time is the worst place, so to speak, to get lost in,  as  Arthur\n",
      "Dent  could  testify,  having  been lost in both time and space a\n",
      "good deal. At least being lost in space kept you busy.\n",
      "\n",
      "He was stranded in prehistoric Earth as the result of  a  complex\n",
      "sequence of events which had involved him being alternately blown\n",
      "up and insulted in more bizarre regions of  the  Galaxy  than  he\n",
      "ever  dreamt  existed,  and  though his life had now turned very,\n",
      "very, very quiet, he was still feeling jumpy.\n",
      "\n",
      "He hadn't been blown up now for five years.\n",
      "\n",
      "Since he had hardly seen anyone since he  and  Ford  Prefect  had\n",
      "parted  company four years previously, he hadn't been insulted in\n",
      "all that time either.\n",
      "\n"
     ]
    }
   ],
   "source": [
    "file = open('hitch3.txt','r')\n",
    "\n",
    "for i in range(24):\n",
    "    file.readline()\n",
    "\n",
    "print(file.read())\n",
    "\n",
    "file.close()"
   ]
  },
  {
   "cell_type": "markdown",
   "metadata": {},
   "source": [
    "Vi kan lese ut alle linjene ved å bruke funksjonen readlines(). Den skaper en liste med en streng per linje."
   ]
  },
  {
   "cell_type": "code",
   "execution_count": 38,
   "metadata": {},
   "outputs": [
    {
     "name": "stdout",
     "output_type": "stream",
     "text": [
      "['The regular early morning yell of horror was the sound of  Arthur\\n', 'Dent waking up and suddenly remembering where he was.\\n', '\\n', \"It wasn't just that the cave was cold, it wasn't just that it was\\n\", 'damp  and smelly. It was the fact that the cave was in the middle\\n', \"of Islington and there wasn't a bus due for two million years.\\n\", '\\n', 'Time is the worst place, so to speak, to get lost in,  as  Arthur\\n', 'Dent  could  testify,  having  been lost in both time and space a\\n', 'good deal. At least being lost in space kept you busy.\\n', '\\n', 'He was stranded in prehistoric Earth as the result of  a  complex\\n', 'sequence of events which had involved him being alternately blown\\n', 'up and insulted in more bizarre regions of  the  Galaxy  than  he\\n', 'ever  dreamt  existed,  and  though his life had now turned very,\\n', 'very, very quiet, he was still feeling jumpy.\\n', '\\n', \"He hadn't been blown up now for five years.\\n\", '\\n', 'Since he had hardly seen anyone since he  and  Ford  Prefect  had\\n', \"parted  company four years previously, he hadn't been insulted in\\n\", 'all that time either.\\n']\n"
     ]
    }
   ],
   "source": [
    "file = open('hitch3.txt','r')\n",
    "\n",
    "for i in range(24):\n",
    "    file.readline()\n",
    "\n",
    "linjer = file.readlines()\n",
    "\n",
    "print(linjer)\n",
    "\n",
    "file.close()"
   ]
  },
  {
   "cell_type": "markdown",
   "metadata": {},
   "source": [
    "Vi kan rydde litt i dette ved å fjerne \\\\n på slutten av hver streng og ved å ikke ta med blanke linjer som kun består av linjeskift."
   ]
  },
  {
   "cell_type": "code",
   "execution_count": 39,
   "metadata": {},
   "outputs": [
    {
     "name": "stdout",
     "output_type": "stream",
     "text": [
      "['The regular early morning yell of horror was the sound of  Arthur', 'Dent waking up and suddenly remembering where he was.', \"It wasn't just that the cave was cold, it wasn't just that it was\", 'damp  and smelly. It was the fact that the cave was in the middle', \"of Islington and there wasn't a bus due for two million years.\", 'Time is the worst place, so to speak, to get lost in,  as  Arthur', 'Dent  could  testify,  having  been lost in both time and space a', 'good deal. At least being lost in space kept you busy.', 'He was stranded in prehistoric Earth as the result of  a  complex', 'sequence of events which had involved him being alternately blown', 'up and insulted in more bizarre regions of  the  Galaxy  than  he', 'ever  dreamt  existed,  and  though his life had now turned very,', 'very, very quiet, he was still feeling jumpy.', \"He hadn't been blown up now for five years.\", 'Since he had hardly seen anyone since he  and  Ford  Prefect  had', \"parted  company four years previously, he hadn't been insulted in\", 'all that time either.']\n"
     ]
    }
   ],
   "source": [
    "file = open('hitch3.txt','r')\n",
    "\n",
    "for i in range(24):\n",
    "    file.readline()\n",
    "\n",
    "linjer = []\n",
    "\n",
    "for linje in file:\n",
    "    if linje != '\\n':\n",
    "        linjer.append(linje.rstrip('\\n'))\n",
    "\n",
    "print(linjer)\n",
    "\n",
    "file.close()"
   ]
  },
  {
   "cell_type": "markdown",
   "metadata": {},
   "source": [
    "Hvis filen består av noe annet enn tekst må vi skrive koden på en annen måte for å ta den inn på riktig måte. Vi må kjenne dataene våre."
   ]
  }
 ],
 "metadata": {
  "kernelspec": {
   "display_name": "Python 3",
   "language": "python",
   "name": "python3"
  },
  "language_info": {
   "codemirror_mode": {
    "name": "ipython",
    "version": 3
   },
   "file_extension": ".py",
   "mimetype": "text/x-python",
   "name": "python",
   "nbconvert_exporter": "python",
   "pygments_lexer": "ipython3",
   "version": "3.6.2"
  }
 },
 "nbformat": 4,
 "nbformat_minor": 2
}
