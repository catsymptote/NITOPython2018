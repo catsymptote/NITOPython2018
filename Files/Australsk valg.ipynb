{
 "cells": [
  {
   "cell_type": "markdown",
   "metadata": {},
   "source": [
    "# Materiale for australsk valg"
   ]
  },
  {
   "cell_type": "markdown",
   "metadata": {},
   "source": [
    "## Australske stemmer (preferansevalg)\n",
    "Alle som stemmer MÅ stemme på ALLE kandidatene, i prioritert rekkefølge. Først sjekker man om noen har over 50 % av stemmene. I så fall har vedkommende vunnet. Om ikke sjekker man om alle gjenværende kandidater ligger likt. I så fall er det uavgjort. Om ikke stryker man den kandidaten med færrest stemmer (hvis det er flere som ligger likt på bunn strykes alle som ligger likt på bunn). Deretter sjekker man stemmesedlene til de personene som mistet \"sin\" kandidat, og gir deres stemme til neste navn på listen. Dette gjentas til en kandidat vinner valget eller til alle gjenværende kandidater ligger likt.\n",
    "\n",
    "Kilde til oppgaven:\n",
    "http://www.programming-challenges.com/pg.php?page=downloadproblem&probid=110108&format=html\n",
    "\n",
    "### Eksempel\n",
    "6 kandidater: Omar, Tobias, Ole Marius, Sara, Mari og Bjørn. 10 personer som stemmer.\n",
    "\n",
    "#### Valgrunde 1\n",
    "Stemmeseddel 1: Bjørn, Sara, Omar, Ole Marius, Tobias, Mari\n",
    "\n",
    "Stemmeseddel 2: Sara, Ole Marius, Bjørn, Omar, Mari, Tobias\n",
    "\n",
    "Stemmeseddel 3: Mari, Tobias, Bjørn, Sara, Ole Marius, Omar\n",
    "\n",
    "Stemmeseddel 4: Ole Marius, Bjørn, Omar, Sara, Mari, Tobias\n",
    "\n",
    "Stemmeseddel 5: Tobias, Sara, Mari, Ole Marius, Bjørn, Omar\n",
    "\n",
    "Stemmeseddel 6: Omar, Ole Marius, Sara, Tobias, Mari, Bjørn\n",
    "\n",
    "Stemmeseddel 7: Sara, Mari, Tobias, Omar, Bjørn, Ole Marius\n",
    "\n",
    "Stemmeseddel 8: Mari, Sara, Omar, Bjørn, Ole Marius, Tobias\n",
    "\n",
    "Stemmeseddel 9: Bjørn, Mari, Sara, Tobias, Ole Marius, Omar\n",
    "\n",
    "Stemmeseddel 10: Tobias, Sara, Mari, Ole Marius, Bjørn, Omar"
   ]
  },
  {
   "cell_type": "markdown",
   "metadata": {},
   "source": [
    "Resultat første runde: Bjørn 2, Sara 2, Mari 2, Tobias 2, Ole Marius 1, Omar 1\n",
    "\n",
    "Ingen over 50 %. Ikke alle resterende ligger likt. Nederst er Ole Marius og Omar på 1. Derfor fjernes Ole Marius og Omar.\n",
    "\n",
    "#### Valgrunde 2\n",
    "Nå ser stemmesedlene ut som vist under:\n",
    "\n",
    "Stemmeseddel 1: Bjørn, Sara, Tobias, Mari\n",
    "\n",
    "Stemmeseddel 2: Sara, Bjørn, Mari, Tobias\n",
    "\n",
    "Stemmeseddel 3: Mari, Tobias, Bjørn, Sara\n",
    "\n",
    "Stemmeseddel 4: Bjørn, Sara, Mari, Tobias\n",
    "\n",
    "Stemmeseddel 5: Tobias, Sara, Mari, Bjørn\n",
    "\n",
    "Stemmeseddel 6: Sara, Tobias, Mari, Bjørn\n",
    "\n",
    "Stemmeseddel 7: Sara, Mari, Tobias, Bjørn\n",
    "\n",
    "Stemmeseddel 8: Mari, Sara, Bjørn, Tobias\n",
    "\n",
    "Stemmeseddel 9: Bjørn, Mari, Sara, Tobias\n",
    "\n",
    "Stemmeseddel 10: Tobias, Sara, Mari, Bjørn"
   ]
  },
  {
   "cell_type": "markdown",
   "metadata": {},
   "source": [
    "Resultat andre runde: Bjørn 3, Sara 3, Mari 2, Tobias 2\n",
    "\n",
    "Ingen over 50 %. Ikke alle resterende ligger likt. Nederst er Tobias og Mari på 2. Derfor fjernes Tobias og Mari.\n",
    "\n",
    "#### Valgrunde 3\n",
    "Nå ser stemmesedlene ut som vist under:\n",
    "\n",
    "Stemmeseddel 1: Bjørn, Sara\n",
    "\n",
    "Stemmeseddel 2: Sara, Bjørn\n",
    "\n",
    "Stemmeseddel 3: Bjørn, Sara\n",
    "\n",
    "Stemmeseddel 4: Bjørn, Sara\n",
    "\n",
    "Stemmeseddel 5: Sara, Bjørn\n",
    "\n",
    "Stemmeseddel 6: Sara, Bjørn\n",
    "\n",
    "Stemmeseddel 7: Sara, Bjørn\n",
    "\n",
    "Stemmeseddel 8: Sara, Bjørn\n",
    "\n",
    "Stemmeseddel 9: Bjørn, Sara\n",
    "\n",
    "Stemmeseddel 10: Sara, Bjørn\n"
   ]
  },
  {
   "cell_type": "markdown",
   "metadata": {},
   "source": [
    "Resultat tredje runde: Sara 6, Bjørn 4\n",
    "\n",
    "Sara har over 50 % og har vunnet valget.\n",
    "\n",
    "\n",
    "Systemet er forståelig, men arbeidskrevende å utføre. Det er entydige instruksjoner og stort antall repetetive handlinger, dette kan (og bør) automatiseres."
   ]
  },
  {
   "cell_type": "markdown",
   "metadata": {},
   "source": [
    "### Øving 8\n",
    "Skriv flytskjema for et program som avgjøre valget basert på reglene beskrevet over. Du trenger ikke kontrollere om inputene er gyldige (riktig antall navn, ulike navn, alle navn fra kandidatlisten brukt osv.)."
   ]
  },
  {
   "cell_type": "markdown",
   "metadata": {},
   "source": [
    "Under er en funksjon som kan avgjøre valget. Den tar som input en liste med kandidatnavn og en liste som består av stemmesedler. Hver stemmeseddel er en liste der kandidatnavnene står i prioritert rekkefølge. Funksjonen er stor og kan være vanskelig å lese for de som ikke har laget den selv. Den bruker et verktøy som ikke er behandlet i dette kurset, nemlig dictionaries. Dictionaries lar oss koble elementer sammen, f.eks. navn og telefonnummer, ord og betydning, lag og poeng, kandidatnavn og stemmetall. Dictionaries i Python bruker krøllet parentes { og }.\n",
    "\n",
    "Kjør cellen med funksjonen, scroll ned og kjør cellen med eksempelkoden."
   ]
  },
  {
   "cell_type": "code",
   "execution_count": 1,
   "metadata": {
    "collapsed": true
   },
   "outputs": [],
   "source": [
    "def stemmesystem(kandidatliste, stemmeliste):\n",
    "    \"\"\"\n",
    "    Kandidatliste er en liste med strings, hver string er navnet til en kandidat.\n",
    "    \n",
    "    Stemmeliste er en liste med lister med strings, hver liste med strings er en stemmeseddel.\n",
    "    Hver string er navnet til en kandidat.\n",
    "    \"\"\"\n",
    "    ferdig = False\n",
    "    total = len(stemmeliste)\n",
    "    \n",
    "    \n",
    "    while not ferdig:\n",
    "        kandidatstemmer = {kandidat:0 for kandidat in kandidatliste}\n",
    "        for stemmeseddel in stemmeliste:\n",
    "            kandidatstemmer[stemmeseddel[0]] += 1\n",
    "        \n",
    "        for kandidat in kandidatstemmer:\n",
    "            if kandidatstemmer[kandidat] > total/2:\n",
    "                ferdig = True\n",
    "                vinner = kandidat\n",
    "        \n",
    "        if ferdig == False:\n",
    "            stemmer = kandidatstemmer[kandidatliste[0]]\n",
    "            ferdig = True\n",
    "            uavgjort = True\n",
    "            for kandidat in kandidatstemmer:\n",
    "                if kandidatstemmer[kandidat] != stemmer:\n",
    "                    ferdig = False\n",
    "                    uavgjort = False\n",
    "        \n",
    "        verdiliste = list(kandidatstemmer.values())\n",
    "        laveste = min(verdiliste)\n",
    "        sletteliste = [kandidat for kandidat in kandidatstemmer if kandidatstemmer[kandidat] == laveste]\n",
    "        \n",
    "        print('Her er stemmene etter denne valgrunden:')\n",
    "        print(kandidatstemmer)\n",
    "        print('De som slettes etter denne valgrunden er:')\n",
    "        print(sletteliste,'\\n')\n",
    "        \n",
    "        if not uavgjort:\n",
    "            for navn in sletteliste:\n",
    "                kandidatliste.remove(navn)\n",
    "                for stemmeseddel in stemmeliste:\n",
    "                    stemmeseddel.remove(navn)\n",
    "\n",
    "        if len(kandidatliste) == 1:\n",
    "            break\n",
    "    \n",
    "    if uavgjort:\n",
    "        print('Det ble uavgjort mellom følgende kandidater: ',kandidatliste)\n",
    "    else:\n",
    "        print('Nå er valget avgjort. Vinneren er '+str(kandidatliste[0])+'.')"
   ]
  },
  {
   "cell_type": "code",
   "execution_count": 2,
   "metadata": {},
   "outputs": [
    {
     "name": "stdout",
     "output_type": "stream",
     "text": [
      "Her er stemmene etter denne valgrunden:\n",
      "{'Omar': 1, 'Tobias': 2, 'Ole Marius': 1, 'Sara': 2, 'Mari': 2, 'Bjørn': 2}\n",
      "De som slettes etter denne valgrunden er:\n",
      "['Omar', 'Ole Marius'] \n",
      "\n",
      "Her er stemmene etter denne valgrunden:\n",
      "{'Tobias': 2, 'Sara': 3, 'Mari': 2, 'Bjørn': 3}\n",
      "De som slettes etter denne valgrunden er:\n",
      "['Tobias', 'Mari'] \n",
      "\n",
      "Her er stemmene etter denne valgrunden:\n",
      "{'Sara': 6, 'Bjørn': 4}\n",
      "De som slettes etter denne valgrunden er:\n",
      "['Bjørn'] \n",
      "\n",
      "Nå er valget avgjort. Vinneren er Sara.\n"
     ]
    }
   ],
   "source": [
    "kandidater = ['Omar', 'Tobias', 'Ole Marius', 'Sara', 'Mari', 'Bjørn']\n",
    "stemmeliste = [['Bjørn', 'Sara', 'Omar', 'Ole Marius', 'Tobias', 'Mari'], ['Sara', 'Ole Marius', 'Bjørn', 'Omar', 'Mari', 'Tobias'],\\\n",
    "               ['Mari', 'Tobias', 'Bjørn', 'Sara', 'Ole Marius', 'Omar'], ['Ole Marius', 'Bjørn', 'Omar', 'Sara', 'Mari', 'Tobias'],\\\n",
    "               ['Tobias', 'Sara', 'Mari', 'Ole Marius', 'Bjørn', 'Omar'], ['Omar', 'Ole Marius', 'Sara', 'Tobias', 'Mari', 'Bjørn'],\\\n",
    "               ['Sara', 'Mari', 'Tobias', 'Omar', 'Bjørn', 'Ole Marius'], ['Mari', 'Sara', 'Omar', 'Bjørn', 'Ole Marius', 'Tobias'],\\\n",
    "               ['Bjørn', 'Mari', 'Sara', 'Tobias', 'Ole Marius', 'Omar'], ['Tobias', 'Sara', 'Mari', 'Ole Marius', 'Bjørn', 'Omar']]\n",
    "# Endre Bjørn fra 4 til 2 i stemmeseddel nr 8 for å få uavgjort.\n",
    "\n",
    "stemmesystem(kandidater, stemmeliste)"
   ]
  }
 ],
 "metadata": {
  "kernelspec": {
   "display_name": "Python 3",
   "language": "python",
   "name": "python3"
  },
  "language_info": {
   "codemirror_mode": {
    "name": "ipython",
    "version": 3
   },
   "file_extension": ".py",
   "mimetype": "text/x-python",
   "name": "python",
   "nbconvert_exporter": "python",
   "pygments_lexer": "ipython3",
   "version": "3.6.2"
  }
 },
 "nbformat": 4,
 "nbformat_minor": 2
}
