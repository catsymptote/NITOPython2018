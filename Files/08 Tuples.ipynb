{
 "cells": [
  {
   "cell_type": "markdown",
   "metadata": {},
   "source": [
    "# Tuples\n",
    "En tuple er en type objekt som ikke kan endres når det er opprettet. Det er en opplisting av ulike elementer.\n",
    "\n",
    "En full oversikt over metodene finnes på https://docs.python.org/3/, særlig på https://docs.python.org/3/library/stdtypes.html#tuple, https://docs.python.org/3/library/stdtypes.html#sequence-types-list-tuple-range og https://docs.python.org/3/tutorial/datastructures.html#tuples-and-sequences."
   ]
  },
  {
   "cell_type": "code",
   "execution_count": 9,
   "metadata": {},
   "outputs": [
    {
     "name": "stdout",
     "output_type": "stream",
     "text": [
      "(3, 7, -1, 'Tekst', [2, 3], 7)\n",
      "<class 'tuple'>\n",
      "-1\n",
      "7\n"
     ]
    }
   ],
   "source": [
    "a = (3, 7, -1, 'Tekst', [2, 3], 7)\n",
    "print(a)\n",
    "print(type(a))\n",
    "print(a[2])\n",
    "print(a[-1])"
   ]
  },
  {
   "cell_type": "code",
   "execution_count": 12,
   "metadata": {},
   "outputs": [
    {
     "name": "stdout",
     "output_type": "stream",
     "text": [
      "1\n",
      "2\n"
     ]
    }
   ],
   "source": [
    "print(a.index(7))\n",
    "print(a.count(7))"
   ]
  },
  {
   "cell_type": "code",
   "execution_count": 10,
   "metadata": {},
   "outputs": [
    {
     "name": "stdout",
     "output_type": "stream",
     "text": [
      "3\n",
      "7\n",
      "-1\n",
      "Tekst\n",
      "[2, 3]\n",
      "7\n"
     ]
    }
   ],
   "source": [
    "for element in a:\n",
    "    print(element)"
   ]
  },
  {
   "cell_type": "code",
   "execution_count": 15,
   "metadata": {},
   "outputs": [
    {
     "name": "stdout",
     "output_type": "stream",
     "text": [
      "Nå er vi kommet til element nummer 0\n",
      "Dette elementet er 3\n",
      "Nå er vi kommet til element nummer 1\n",
      "Nå er vi kommet til element nummer 2\n",
      "Dette elementet er -1\n",
      "Nå er vi kommet til element nummer 3\n",
      "Nå er vi kommet til element nummer 4\n",
      "Dette elementet er [2, 3]\n",
      "Nå er vi kommet til element nummer 5\n"
     ]
    }
   ],
   "source": [
    "for i in range(len(a)):\n",
    "    print('Nå er vi kommet til element nummer',i)\n",
    "    if i%2 == 0:        # Hvis i har null i rest når det deles på to, altså er et partall \n",
    "        print('Dette elementet er',a[i])     # Så printes element nummer i fra a."
   ]
  },
  {
   "cell_type": "markdown",
   "metadata": {},
   "source": [
    "Vi kan dele opp en tuple på flere måter, f.eks. som vist under."
   ]
  },
  {
   "cell_type": "code",
   "execution_count": 17,
   "metadata": {},
   "outputs": [
    {
     "name": "stdout",
     "output_type": "stream",
     "text": [
      "(3, 7, -1, 'Tekst', [2, 3], 7)\n",
      "3\n",
      "7\n",
      "-1\n",
      "Tekst\n",
      "[2, 3]\n",
      "7\n"
     ]
    }
   ],
   "source": [
    "print(a)\n",
    "\n",
    "b, c, d, e, f, g = a\n",
    "print(b)\n",
    "print(c)\n",
    "print(d)\n",
    "print(e)\n",
    "print(f)\n",
    "print(g)"
   ]
  },
  {
   "cell_type": "markdown",
   "metadata": {},
   "source": [
    "## Er et element i en tuple?\n",
    "Vi kan sjekke om et element er i en tuple på flere måter. Her er to tungvinte og en enkel."
   ]
  },
  {
   "cell_type": "code",
   "execution_count": 18,
   "metadata": {},
   "outputs": [
    {
     "name": "stdout",
     "output_type": "stream",
     "text": [
      "(3, 7, -1, 'Tekst', [2, 3], 7)\n"
     ]
    }
   ],
   "source": [
    "print(a)"
   ]
  },
  {
   "cell_type": "code",
   "execution_count": 20,
   "metadata": {},
   "outputs": [
    {
     "name": "stdout",
     "output_type": "stream",
     "text": [
      "-1 finnes i tuplen a\n"
     ]
    }
   ],
   "source": [
    "for i in range(len(a)):\n",
    "    if a[i] == -1:\n",
    "        print('-1 finnes i tuplen a')"
   ]
  },
  {
   "cell_type": "code",
   "execution_count": 21,
   "metadata": {},
   "outputs": [
    {
     "name": "stdout",
     "output_type": "stream",
     "text": [
      "-1 finnes i tuplen a\n"
     ]
    }
   ],
   "source": [
    "for element in a:\n",
    "    if element == -1:\n",
    "        print('-1 finnes i tuplen a')"
   ]
  },
  {
   "cell_type": "code",
   "execution_count": 22,
   "metadata": {},
   "outputs": [
    {
     "name": "stdout",
     "output_type": "stream",
     "text": [
      "-1 finnes i tuplen a\n"
     ]
    }
   ],
   "source": [
    "if -1 in a:\n",
    "    print('-1 finnes i tuplen a')"
   ]
  },
  {
   "cell_type": "markdown",
   "metadata": {},
   "source": [
    "Dette kan brukes for å lete etter et element, men bare hvis det eksisterer."
   ]
  },
  {
   "cell_type": "code",
   "execution_count": 23,
   "metadata": {
    "collapsed": true
   },
   "outputs": [],
   "source": [
    "def finn_index_hvis_mulig(tuplen, målet):\n",
    "    \"\"\"\n",
    "    Returnerer indexen til elementet målet dersom målet eksisterer i tuplen.\n",
    "    Ellers returneres -1.\n",
    "    \"\"\"\n",
    "    if målet in tuplen:\n",
    "        return(tuplen.index(målet))\n",
    "    else:\n",
    "        return(-1)"
   ]
  },
  {
   "cell_type": "code",
   "execution_count": 26,
   "metadata": {},
   "outputs": [
    {
     "name": "stdout",
     "output_type": "stream",
     "text": [
      "1\n",
      "3\n",
      "-1\n"
     ]
    }
   ],
   "source": [
    "print(finn_index_hvis_mulig(a, 7))\n",
    "print(finn_index_hvis_mulig(a, 'Tekst'))\n",
    "print(finn_index_hvis_mulig(a, 52))"
   ]
  }
 ],
 "metadata": {
  "kernelspec": {
   "display_name": "Python 3",
   "language": "python",
   "name": "python3"
  },
  "language_info": {
   "codemirror_mode": {
    "name": "ipython",
    "version": 3
   },
   "file_extension": ".py",
   "mimetype": "text/x-python",
   "name": "python",
   "nbconvert_exporter": "python",
   "pygments_lexer": "ipython3",
   "version": "3.6.2"
  }
 },
 "nbformat": 4,
 "nbformat_minor": 2
}
