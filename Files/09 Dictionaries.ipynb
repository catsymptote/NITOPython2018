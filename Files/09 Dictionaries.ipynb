{
 "cells": [
  {
   "cell_type": "markdown",
   "metadata": {},
   "source": [
    "# Dictionaries/ordbøker\n",
    "En ordbok er en rekke parkoblinger mellom elementer. Objektene i et par trenger ikke være av samme typer som i andre par, men det er ofte gunstig om formatene er like. Vi kaller den unike tingen en nøkkel (key), og den tilhørende verdien en verdi (value).\n",
    "\n",
    "En full oversikt over metodene finnes på https://docs.python.org/3/, særlig på https://docs.python.org/3/library/stdtypes.html#mapping-types-dict og https://docs.python.org/3/tutorial/datastructures.html#dictionaries.\n",
    "\n",
    "Eksempel: I folkeregisteret er fødselsnummer nøkkelen, og tilknyttede adresser er verdien. Alle fødselsnummer er unike, men hvert fødselsnummer kan være knyttet til mer enn én adresse, og samme adresse kan være knyttet til mer enn ett fødselsnummer.\n",
    "\n",
    "Under ser vi hvordan en dict lages og grunnleggende bruk."
   ]
  },
  {
   "cell_type": "code",
   "execution_count": 1,
   "metadata": {
    "collapsed": true
   },
   "outputs": [],
   "source": [
    "folkeregisteret = {31128712345: ['Aspestrøket 77'], 20047712345: ['Eikeveien 20'], 14128912345: ['Bjørkgata 32', 'Palmesmuget 98'], 12010812345: ['Eikeveien 20']}"
   ]
  },
  {
   "cell_type": "code",
   "execution_count": 2,
   "metadata": {},
   "outputs": [
    {
     "name": "stdout",
     "output_type": "stream",
     "text": [
      "{31128712345: ['Aspestrøket 77'], 20047712345: ['Eikeveien 20'], 14128912345: ['Bjørkgata 32', 'Palmesmuget 98'], 12010812345: ['Eikeveien 20']}\n"
     ]
    }
   ],
   "source": [
    "# Vi kan printe hele folkeregisteret.\n",
    "print(folkeregisteret)"
   ]
  },
  {
   "cell_type": "code",
   "execution_count": 4,
   "metadata": {},
   "outputs": [
    {
     "name": "stdout",
     "output_type": "stream",
     "text": [
      "20047712345\n",
      "14128912345\n",
      "12010812345\n"
     ]
    }
   ],
   "source": [
    "# Vi kan printe alle nøklene i folkeregisteret.\n",
    "for element in folkeregisteret:\n",
    "    print(element)"
   ]
  },
  {
   "cell_type": "code",
   "execution_count": 16,
   "metadata": {},
   "outputs": [
    {
     "name": "stdout",
     "output_type": "stream",
     "text": [
      "['Aspestrøket 77']\n",
      "['Eikeveien 20']\n",
      "['Bjørkgata 32', 'Palmesmuget 98']\n",
      "['Eikeveien 20']\n"
     ]
    }
   ],
   "source": [
    "# Vi kan printe alle verdiene i folkeregisteret.\n",
    "for element in folkeregisteret.values():\n",
    "    print(element)"
   ]
  },
  {
   "cell_type": "code",
   "execution_count": 23,
   "metadata": {},
   "outputs": [
    {
     "name": "stdout",
     "output_type": "stream",
     "text": [
      "['Bjørkgata 32', 'Palmesmuget 98']\n"
     ]
    }
   ],
   "source": [
    "# Dersom vi kjenner en nøkkel kan vi slå opp verdien knyttet til den nøkkelen.\n",
    "print(folkeregisteret[14128912345])"
   ]
  },
  {
   "cell_type": "code",
   "execution_count": 26,
   "metadata": {},
   "outputs": [
    {
     "name": "stdout",
     "output_type": "stream",
     "text": [
      "10097712345 er ikke i folkeregisteret.\n",
      "31128712345 har adressen(e) ['Aspestrøket 77']\n"
     ]
    }
   ],
   "source": [
    "# Vi kan sjekke om en nøkkel eksisterer.\n",
    "nøkkel = 10097712345\n",
    "if nøkkel in folkeregisteret:\n",
    "    print(nøkkel,'har adressen(e)',folkeregisteret[nøkkel])\n",
    "else:\n",
    "    print(nøkkel,'er ikke i folkeregisteret.')\n",
    "\n",
    "nøkkel = 31128712345\n",
    "if nøkkel in folkeregisteret:\n",
    "    print(nøkkel,'har adressen(e)',folkeregisteret[nøkkel])\n",
    "else:\n",
    "    print(nøkkel,'er ikke i folkeregisteret.')"
   ]
  },
  {
   "cell_type": "markdown",
   "metadata": {},
   "source": [
    "Øving: Skriv en funksjon som tar et positivt heltall som input (du trenger ikke lage en validering på det). Funksjonen skal lage og returnere en dictionary med mønsteret x: x\\*x. Du skal begynne på x=1, og lage like mange tallpar som det tallet som var input.\n",
    "\n",
    "Med input 4 forventes følgende output: {1: 1, 2: 4, 3: 9, 4: 16}\n",
    "\n",
    "Med input 8 forventes følgende output: {1: 1, 2: 4, 3: 9, 4: 16, 5: 25, 6: 36, 7: 49, 8: 64}"
   ]
  },
  {
   "cell_type": "code",
   "execution_count": null,
   "metadata": {
    "collapsed": true
   },
   "outputs": [],
   "source": [
    "def kvadrattall(antall):\n",
    "    # Her kommer koden\n",
    "    # Her kommer koden\n",
    "    # Her kommer koden\n",
    "    # Her kommer koden"
   ]
  },
  {
   "cell_type": "code",
   "execution_count": null,
   "metadata": {
    "collapsed": true
   },
   "outputs": [],
   "source": [
    "print(kvadrattall(4))\n",
    "print(kvadrattall(8))"
   ]
  },
  {
   "cell_type": "markdown",
   "metadata": {},
   "source": [
    "Øving: Skriv en funksjon som går gjennom en liste med tall og som lager og returnerer en dictionary der hvert tall blir knyttet til en av de to strengene 'partall' eller 'oddetall' etter vanlige regler.\n",
    "\n",
    "Med input [99, 23, 30, 9, 91, 24, 91, 43, 61, 54] forventes følgende output: {99: 'oddetall', 23: 'oddetall', 30: 'partall', 9: 'oddetall', 91: 'oddetall', 24: 'partall', 43: 'oddetall', 61: 'oddetall', 54: 'partall'}"
   ]
  },
  {
   "cell_type": "code",
   "execution_count": null,
   "metadata": {
    "collapsed": true
   },
   "outputs": [],
   "source": [
    "def par_odde_sortering(tall_liste):\n",
    "    # Her kommer koden\n",
    "    # Her kommer koden\n",
    "    # Her kommer koden\n",
    "    # Her kommer koden\n",
    "    # Her kommer koden\n",
    "    # Her kommer koden"
   ]
  },
  {
   "cell_type": "code",
   "execution_count": 47,
   "metadata": {},
   "outputs": [
    {
     "name": "stdout",
     "output_type": "stream",
     "text": [
      "[99, 23, 30, 9, 91, 24, 91, 43, 61, 54]\n"
     ]
    }
   ],
   "source": [
    "import random\n",
    "my_randoms=[random.randrange(1,101,1) for i in range(10)] # Genererer 10 tilfeldige heltall fra og med 1 til og med 100. Kan gi duplikater.\n",
    "print(my_randoms)"
   ]
  },
  {
   "cell_type": "code",
   "execution_count": 48,
   "metadata": {},
   "outputs": [
    {
     "name": "stdout",
     "output_type": "stream",
     "text": [
      "{99: 'oddetall', 23: 'oddetall', 30: 'partall', 9: 'oddetall', 91: 'oddetall', 24: 'partall', 43: 'oddetall', 61: 'oddetall', 54: 'partall'}\n"
     ]
    }
   ],
   "source": [
    "print(par_odde_sortering(my_randoms))"
   ]
  }
 ],
 "metadata": {
  "kernelspec": {
   "display_name": "Python 3",
   "language": "python",
   "name": "python3"
  },
  "language_info": {
   "codemirror_mode": {
    "name": "ipython",
    "version": 3
   },
   "file_extension": ".py",
   "mimetype": "text/x-python",
   "name": "python",
   "nbconvert_exporter": "python",
   "pygments_lexer": "ipython3",
   "version": "3.6.2"
  }
 },
 "nbformat": 4,
 "nbformat_minor": 2
}
